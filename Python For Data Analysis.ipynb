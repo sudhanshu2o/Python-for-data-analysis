{
 "cells": [
  {
   "cell_type": "markdown",
   "id": "3dd5e450",
   "metadata": {},
   "source": [
    "# conditional statements"
   ]
  },
  {
   "cell_type": "code",
   "execution_count": 3,
   "id": "b8bb912b",
   "metadata": {},
   "outputs": [
    {
     "name": "stdout",
     "output_type": "stream",
     "text": [
      "Fail\n"
     ]
    }
   ],
   "source": [
    "#if-else\n",
    "num=20\n",
    "if num>45:\n",
    "    print(\"Pass\")\n",
    "else :\n",
    "    print(\"Fail\")"
   ]
  },
  {
   "cell_type": "code",
   "execution_count": 6,
   "id": "75bd0f81",
   "metadata": {},
   "outputs": [
    {
     "name": "stdout",
     "output_type": "stream",
     "text": [
      "Pass Only\n"
     ]
    }
   ],
   "source": [
    "#if-elif-else\n",
    "num=55\n",
    "if num>=80:\n",
    "    print(\"Topper\")\n",
    "elif num>50 and num<80:\n",
    "    print(\"Pass Only\")\n",
    "else :\n",
    "    print(\"Fail\")"
   ]
  },
  {
   "cell_type": "code",
   "execution_count": 7,
   "id": "60800d0c",
   "metadata": {},
   "outputs": [
    {
     "name": "stdout",
     "output_type": "stream",
     "text": [
      "Pass\n"
     ]
    }
   ],
   "source": [
    "#short hand if\n",
    "num=55\n",
    "if num>40 : print(\"Pass\")"
   ]
  },
  {
   "cell_type": "code",
   "execution_count": 9,
   "id": "e53a115f",
   "metadata": {},
   "outputs": [
    {
     "name": "stdout",
     "output_type": "stream",
     "text": [
      "Fail\n"
     ]
    }
   ],
   "source": [
    "#short hand if-else\n",
    "num=25\n",
    "print(\"Pass\") if num>40 else print(\"Fail\")"
   ]
  },
  {
   "cell_type": "markdown",
   "id": "f361f1f0",
   "metadata": {},
   "source": [
    "# Loops"
   ]
  },
  {
   "cell_type": "code",
   "execution_count": 11,
   "id": "c57eb82d",
   "metadata": {},
   "outputs": [
    {
     "name": "stdout",
     "output_type": "stream",
     "text": [
      "1\n",
      "2\n",
      "3\n",
      "4\n",
      "5\n"
     ]
    }
   ],
   "source": [
    "#for loop\n",
    "for i in range(1,6):\n",
    "    print(i)"
   ]
  },
  {
   "cell_type": "code",
   "execution_count": 12,
   "id": "9e742d62",
   "metadata": {},
   "outputs": [
    {
     "name": "stdout",
     "output_type": "stream",
     "text": [
      "1\n",
      "3\n",
      "5\n"
     ]
    }
   ],
   "source": [
    "#for loop with increment 2\n",
    "for i in range(1,6,2):\n",
    "    print(i)"
   ]
  },
  {
   "cell_type": "code",
   "execution_count": 14,
   "id": "f2c0f87a",
   "metadata": {},
   "outputs": [
    {
     "name": "stdout",
     "output_type": "stream",
     "text": [
      "7 X 1 = 7\n",
      "7 X 2 = 14\n",
      "7 X 3 = 21\n",
      "7 X 4 = 28\n",
      "7 X 5 = 35\n",
      "7 X 6 = 42\n",
      "7 X 7 = 49\n",
      "7 X 8 = 56\n",
      "7 X 9 = 63\n",
      "7 X 10 = 70\n"
     ]
    }
   ],
   "source": [
    "n=7\n",
    "for i in range(1,11):\n",
    "    print(n,\"X\",i,\"=\",n*i)"
   ]
  },
  {
   "cell_type": "code",
   "execution_count": 15,
   "id": "287bd6d2",
   "metadata": {},
   "outputs": [
    {
     "name": "stdout",
     "output_type": "stream",
     "text": [
      "0\n",
      "1\n",
      "2\n",
      "3\n",
      "4\n",
      "5\n"
     ]
    }
   ],
   "source": [
    "#While loop\n",
    "n=0\n",
    "while n<=5:\n",
    "    print(n)\n",
    "    n=n+1"
   ]
  },
  {
   "cell_type": "code",
   "execution_count": 18,
   "id": "34032935",
   "metadata": {},
   "outputs": [
    {
     "name": "stdout",
     "output_type": "stream",
     "text": [
      "Enter a number here :5\n",
      "Enter second number here :1\n",
      "6\n",
      "Do you want to stop the program: no\n",
      "Enter a number here :7\n",
      "Enter second number here :9\n",
      "16\n",
      "Do you want to stop the program: yes\n"
     ]
    }
   ],
   "source": [
    "#while true\n",
    "while True:\n",
    "    num1=int(input('Enter a number here :'))\n",
    "    num2=int(input('Enter second number here :'))\n",
    "    print(num1+num2)\n",
    "    repeat=input('Do you want to stop the program: ')\n",
    "    if repeat==\"yes\":\n",
    "        break\n"
   ]
  },
  {
   "cell_type": "code",
   "execution_count": 20,
   "id": "3f9ab793",
   "metadata": {},
   "outputs": [
    {
     "name": "stdout",
     "output_type": "stream",
     "text": [
      "12345678910\n",
      "12345678910\n",
      "12345678910\n"
     ]
    }
   ],
   "source": [
    "#Nested loops\n",
    "for i in range(1,4):\n",
    "    for j in range(1,11):\n",
    "        print(j, end=\"\")\n",
    "    print()"
   ]
  },
  {
   "cell_type": "code",
   "execution_count": 21,
   "id": "c1b1c185",
   "metadata": {},
   "outputs": [
    {
     "name": "stdout",
     "output_type": "stream",
     "text": [
      "1\n",
      "12\n",
      "123\n",
      "1234\n",
      "12345\n"
     ]
    }
   ],
   "source": [
    "for i in range(1,6):\n",
    "    for j in range(1,i+1):\n",
    "        print(j,end=\"\")\n",
    "    print()"
   ]
  },
  {
   "cell_type": "code",
   "execution_count": 23,
   "id": "f8f5a806",
   "metadata": {},
   "outputs": [
    {
     "name": "stdout",
     "output_type": "stream",
     "text": [
      "1\n",
      "2\n",
      "Add this song to fav\n",
      "4\n",
      "5\n",
      "6\n",
      "7\n",
      "8\n",
      "9\n",
      "10\n"
     ]
    }
   ],
   "source": [
    "#for loop with conditional statements\n",
    "for i in range(1,11):\n",
    "    if i==3:\n",
    "        print(\"Add this song to fav\")\n",
    "    else:\n",
    "        print(i)"
   ]
  },
  {
   "cell_type": "code",
   "execution_count": 2,
   "id": "98e42fff",
   "metadata": {},
   "outputs": [
    {
     "name": "stdout",
     "output_type": "stream",
     "text": [
      "1\n",
      "2\n",
      "3\n",
      "4\n",
      "6\n",
      "7\n",
      "8\n",
      "9\n",
      "10\n"
     ]
    }
   ],
   "source": [
    "#break and continue statements\n",
    "for i in range(1,11):\n",
    "    if i==5:\n",
    "        continue\n",
    "    else:\n",
    "        print(i)"
   ]
  },
  {
   "cell_type": "code",
   "execution_count": 4,
   "id": "5ee89294",
   "metadata": {},
   "outputs": [
    {
     "name": "stdout",
     "output_type": "stream",
     "text": [
      "Enter customer's name: Sid\n",
      "Enter the amount and Quantity\n",
      "Enter amount: 54\n",
      "Enter Quantity: 45\n",
      "Do you want to add more items? (Yes/N0): yes\n",
      "Enter the amount and Quantity\n",
      "Enter amount: 12\n",
      "Enter Quantity: 8\n",
      "Do you want to add more items? (Yes/N0): no\n",
      "----------------------------------------\n",
      "Name:  Sid\n",
      "Amount to be paid:  2526.0\n",
      "----------------------------------------\n",
      "********Happy Shopping********\n",
      "Do you want to go to next Customer? (Yes/N0): no\n"
     ]
    }
   ],
   "source": [
    "while True:\n",
    "    name=input(\"Enter customer's name: \")\n",
    "    total=0\n",
    "    \n",
    "    while True:\n",
    "        print(\"Enter the amount and Quantity\")\n",
    "        amount=float(input(\"Enter amount: \"))\n",
    "        quantity=float(input(\"Enter Quantity: \"))\n",
    "        total+=amount*quantity\n",
    "        repeat=input('Do you want to add more items? (Yes/N0): ')\n",
    "        if repeat==\"no\" or repeat==\"No\":\n",
    "            break\n",
    "    print(\"-\"*40)\n",
    "    print(\"Name: \",name)\n",
    "    print(\"Amount to be paid: \",total)\n",
    "    print(\"-\"*40)\n",
    "    print(\"********Happy Shopping********\")\n",
    "    \n",
    "    repeat1=input(\"Do you want to go to next Customer? (Yes/N0): \")\n",
    "    if repeat1==\"no\" or repeat1==\"No\":\n",
    "        break"
   ]
  },
  {
   "cell_type": "code",
   "execution_count": 21,
   "id": "68f4d851",
   "metadata": {},
   "outputs": [
    {
     "name": "stdout",
     "output_type": "stream",
     "text": [
      "1 \n",
      "1 2 \n",
      "1 2 3 \n",
      "1 2 3 4 \n",
      "1 2 3 4 5 \n"
     ]
    }
   ],
   "source": [
    "for i in range(1,6):\n",
    "    for j in range(1,i+1):\n",
    "        print(j,end=\" \")\n",
    "    print()"
   ]
  },
  {
   "cell_type": "code",
   "execution_count": 19,
   "id": "ce3ed400",
   "metadata": {},
   "outputs": [
    {
     "name": "stdout",
     "output_type": "stream",
     "text": [
      "1 \n",
      "2 2 \n",
      "3 3 3 \n",
      "4 4 4 4 \n",
      "5 5 5 5 5 \n"
     ]
    }
   ],
   "source": [
    "for i in range(1,6):\n",
    "    for j in range(1,i+1):\n",
    "        print(i,end=\" \")\n",
    "    print()"
   ]
  },
  {
   "cell_type": "code",
   "execution_count": 17,
   "id": "5d0b5ddc",
   "metadata": {},
   "outputs": [
    {
     "name": "stdout",
     "output_type": "stream",
     "text": [
      "1 1 1 1 1 \n",
      "2 2 2 2 \n",
      "3 3 3 \n",
      "4 4 \n",
      "5 \n"
     ]
    }
   ],
   "source": [
    "for i in range(1,6):\n",
    "    for j in range(6,i,-1):\n",
    "        print(i , end=\" \")\n",
    "    print()"
   ]
  },
  {
   "cell_type": "code",
   "execution_count": 16,
   "id": "eebe13ad",
   "metadata": {},
   "outputs": [
    {
     "name": "stdout",
     "output_type": "stream",
     "text": [
      "        * \n",
      "      * * \n",
      "    * * * \n",
      "  * * * * \n",
      "* * * * * \n"
     ]
    }
   ],
   "source": [
    "for i in range(1,6):\n",
    "    for j in range(5,i,-1):\n",
    "        print(\" \", end=\" \")\n",
    "    for k in range(i):\n",
    "        print(\"*\", end=\" \")\n",
    "        \n",
    "    print()"
   ]
  },
  {
   "cell_type": "code",
   "execution_count": 22,
   "id": "80289b06",
   "metadata": {},
   "outputs": [
    {
     "name": "stdout",
     "output_type": "stream",
     "text": [
      "1 \n",
      "2 1 \n",
      "3 2 1 \n",
      "4 3 2 1 \n",
      "5 4 3 2 1 \n"
     ]
    }
   ],
   "source": [
    "for i in range(1,6):\n",
    "    for j in range(i,0,-1):\n",
    "        print(j, end=\" \")\n",
    "    print()"
   ]
  },
  {
   "cell_type": "code",
   "execution_count": 24,
   "id": "dc6f3c8b",
   "metadata": {},
   "outputs": [
    {
     "name": "stdout",
     "output_type": "stream",
     "text": [
      "* \n",
      "* * \n",
      "* * * \n",
      "* * * * \n",
      "* * * * * \n",
      "* * * * \n",
      "* * * \n",
      "* * \n",
      "* \n",
      "\n"
     ]
    }
   ],
   "source": [
    "for i in range(1,6):\n",
    "    for j in range(1,i+1):\n",
    "        print(\"*\", end=\" \")\n",
    "    print()\n",
    "for i in range (5,0,-1):\n",
    "    for k in range(0,i-1):\n",
    "         print(\"*\",end=\" \")\n",
    "    print()\n",
    "   \n",
    "    "
   ]
  },
  {
   "cell_type": "code",
   "execution_count": 25,
   "id": "3b429ae8",
   "metadata": {},
   "outputs": [
    {
     "name": "stdout",
     "output_type": "stream",
     "text": [
      "1 \n",
      "2 4 \n",
      "3 6 9 \n",
      "4 8 12 16 \n",
      "5 10 15 20 25 \n",
      "6 12 18 24 30 36 \n",
      "7 14 21 28 35 42 49 \n",
      "8 16 24 32 40 48 56 64 \n",
      "9 18 27 36 45 54 63 72 81 \n",
      "10 20 30 40 50 60 70 80 90 100 \n"
     ]
    }
   ],
   "source": [
    "for i in range(1,11):\n",
    "    for j in range(1,i+1):\n",
    "        print(i*j,end=\" \")\n",
    "    print()"
   ]
  },
  {
   "cell_type": "markdown",
   "id": "4f0c2a5c",
   "metadata": {},
   "source": [
    "# String Manipulation"
   ]
  },
  {
   "cell_type": "code",
   "execution_count": 8,
   "id": "47dbeb71",
   "metadata": {},
   "outputs": [
    {
     "name": "stdout",
     "output_type": "stream",
     "text": [
      "The length of the given string is:  43\n"
     ]
    }
   ],
   "source": [
    "#length of string\n",
    "a=\"why fit in, When you are Born to Stand Out!\"\n",
    "b=len(a)\n",
    "print(\"The length of the given string is: \",b)"
   ]
  },
  {
   "cell_type": "code",
   "execution_count": 9,
   "id": "fbb08c25",
   "metadata": {},
   "outputs": [
    {
     "name": "stdout",
     "output_type": "stream",
     "text": [
      "The number of times o is occuring is:  3\n"
     ]
    }
   ],
   "source": [
    "#counting of occurences\n",
    "b=a.count(\"o\")\n",
    "print(\"The number of times o is occuring is: \",b)"
   ]
  },
  {
   "cell_type": "code",
   "execution_count": 10,
   "id": "fbcb27c6",
   "metadata": {},
   "outputs": [
    {
     "name": "stdout",
     "output_type": "stream",
     "text": [
      "why fit in, when you are born to stand out!\n",
      "WHY FIT IN, WHEN YOU ARE BORN TO STAND OUT!\n"
     ]
    }
   ],
   "source": [
    "#lower case and upper case conversion\n",
    "x=a.lower()\n",
    "print(x)\n",
    "y=a.upper()\n",
    "print(y)"
   ]
  },
  {
   "cell_type": "code",
   "execution_count": 11,
   "id": "2c522afe",
   "metadata": {},
   "outputs": [
    {
     "name": "stdout",
     "output_type": "stream",
     "text": [
      "Why Fit In, When You Are Born To Stand Out!\n"
     ]
    }
   ],
   "source": [
    "#conver string to title \n",
    "c=a.title() \n",
    "print(c)"
   ]
  },
  {
   "cell_type": "code",
   "execution_count": 12,
   "id": "fa211ad4",
   "metadata": {},
   "outputs": [
    {
     "name": "stdout",
     "output_type": "stream",
     "text": [
      "Why fit in, when you are born to stand out!\n"
     ]
    }
   ],
   "source": [
    "#capitalize string first letter only\n",
    "c=a.capitalize()\n",
    "print(c)"
   ]
  },
  {
   "cell_type": "code",
   "execution_count": 13,
   "id": "2b5518b9",
   "metadata": {},
   "outputs": [
    {
     "name": "stdout",
     "output_type": "stream",
     "text": [
      "4\n"
     ]
    }
   ],
   "source": [
    "#find the index of \"fit in\"\n",
    "print(a.find(\"fit in\"))"
   ]
  },
  {
   "cell_type": "code",
   "execution_count": 14,
   "id": "548c0f02",
   "metadata": {},
   "outputs": [
    {
     "name": "stdout",
     "output_type": "stream",
     "text": [
      "4\n"
     ]
    }
   ],
   "source": [
    "#index\n",
    "a=\"Hello world\"\n",
    "print(a.index('o'))"
   ]
  },
  {
   "cell_type": "code",
   "execution_count": 15,
   "id": "f55d09e8",
   "metadata": {},
   "outputs": [
    {
     "name": "stdout",
     "output_type": "stream",
     "text": [
      "My name is John\n"
     ]
    }
   ],
   "source": [
    "#format\n",
    "name=\"John\"\n",
    "a=\"My name is {}\"\n",
    "print (a.format(name))"
   ]
  },
  {
   "cell_type": "code",
   "execution_count": 16,
   "id": "9cc8a600",
   "metadata": {},
   "outputs": [
    {
     "name": "stdout",
     "output_type": "stream",
     "text": [
      "***John***\n"
     ]
    }
   ],
   "source": [
    "#center : it fills the given characters and centralizes a string\n",
    "name=\"John\"\n",
    "print(name.center(10,'*'))\n"
   ]
  },
  {
   "cell_type": "code",
   "execution_count": 18,
   "id": "5a3d2b97",
   "metadata": {},
   "outputs": [
    {
     "name": "stdout",
     "output_type": "stream",
     "text": [
      "my name is John. and my age is 24\n"
     ]
    }
   ],
   "source": [
    "#to write variables inside a string\n",
    "name=\"John\"\n",
    "age=24\n",
    "b=\"my name is {}. and my age is {}\"\n",
    "print(b.format(name,age))"
   ]
  },
  {
   "cell_type": "code",
   "execution_count": 23,
   "id": "ed24f3eb",
   "metadata": {},
   "outputs": [],
   "source": [
    "a=\"hello\"\n",
    "b=\"Hello123\"\n",
    "c=\"123456\"\n",
    "d=\"HELLO\"\n",
    "e=\" \"\n",
    "f=\"Hello 123@\"\n",
    "g=\"1.234\""
   ]
  },
  {
   "cell_type": "code",
   "execution_count": 30,
   "id": "ccf8d22c",
   "metadata": {},
   "outputs": [
    {
     "name": "stdout",
     "output_type": "stream",
     "text": [
      "True\n",
      "True\n",
      "True\n",
      "True\n",
      "False\n",
      "False\n",
      "False\n"
     ]
    }
   ],
   "source": [
    "#isalnum - returns true if all characters in the string are alpanumeric\n",
    "print(a.isalnum())\n",
    "print(b.isalnum())\n",
    "print(c.isalnum())\n",
    "print(d.isalnum())\n",
    "print(e.isalnum())\n",
    "print(f.isalnum())\n",
    "print(g.isalnum())"
   ]
  },
  {
   "cell_type": "code",
   "execution_count": 31,
   "id": "117c9a63",
   "metadata": {},
   "outputs": [
    {
     "name": "stdout",
     "output_type": "stream",
     "text": [
      "True\n",
      "False\n",
      "False\n",
      "True\n",
      "False\n",
      "False\n",
      "False\n"
     ]
    }
   ],
   "source": [
    "#isalpha - returns true if all characters in the string are alphabet\n",
    "print(a.isalpha())\n",
    "print(b.isalpha())\n",
    "print(c.isalpha())\n",
    "print(d.isalpha())\n",
    "print(e.isalpha())\n",
    "print(f.isalpha())\n",
    "print(g.isalpha())"
   ]
  },
  {
   "cell_type": "code",
   "execution_count": 32,
   "id": "630b314b",
   "metadata": {},
   "outputs": [
    {
     "name": "stdout",
     "output_type": "stream",
     "text": [
      "False\n",
      "False\n",
      "True\n",
      "False\n",
      "False\n",
      "False\n",
      "False\n"
     ]
    }
   ],
   "source": [
    "#isdecimal - returns true if all characters in the string are decimal\n",
    "print(a.isdecimal())\n",
    "print(b.isdecimal())\n",
    "print(c.isdecimal())\n",
    "print(d.isdecimal())\n",
    "print(e.isdecimal())\n",
    "print(f.isdecimal())\n",
    "print(g.isdecimal())"
   ]
  },
  {
   "cell_type": "code",
   "execution_count": 33,
   "id": "14d5496c",
   "metadata": {},
   "outputs": [
    {
     "name": "stdout",
     "output_type": "stream",
     "text": [
      "False\n",
      "False\n",
      "True\n",
      "False\n"
     ]
    }
   ],
   "source": [
    "#isdigit - returns true if all characters in the string are digits\n",
    "print(a.isdigit())\n",
    "print(b.isdigit())\n",
    "print(c.isdigit())\n",
    "print(g.isdigit())"
   ]
  },
  {
   "cell_type": "code",
   "execution_count": 34,
   "id": "d5f93601",
   "metadata": {},
   "outputs": [
    {
     "name": "stdout",
     "output_type": "stream",
     "text": [
      "False\n",
      "False\n",
      "True\n",
      "False\n"
     ]
    }
   ],
   "source": [
    "#isnumeric - returns true if all characters in the string are numeric\n",
    "print(a.isnumeric())\n",
    "print(b.isnumeric())\n",
    "print(c.isnumeric())\n",
    "print(e.isnumeric())"
   ]
  },
  {
   "cell_type": "code",
   "execution_count": 35,
   "id": "0cc1e993",
   "metadata": {},
   "outputs": [
    {
     "name": "stdout",
     "output_type": "stream",
     "text": [
      "True\n",
      "False\n"
     ]
    }
   ],
   "source": [
    "#islower - returns true if all characters in the string are lower case\n",
    "print(a.islower())\n",
    "print(d.islower())"
   ]
  },
  {
   "cell_type": "code",
   "execution_count": 36,
   "id": "de7210b0",
   "metadata": {},
   "outputs": [
    {
     "name": "stdout",
     "output_type": "stream",
     "text": [
      "False\n",
      "True\n"
     ]
    }
   ],
   "source": [
    "#isupper - returns true if all characters in the string are upper case\n",
    "print(a.isupper())\n",
    "print(d.isupper())"
   ]
  },
  {
   "cell_type": "code",
   "execution_count": 37,
   "id": "6b8575f4",
   "metadata": {},
   "outputs": [
    {
     "name": "stdout",
     "output_type": "stream",
     "text": [
      "True\n",
      "False\n"
     ]
    }
   ],
   "source": [
    "#isspace - returns true if all characters in the string are whitespaces\n",
    "print(e.isspace())\n",
    "print(f.isspace())"
   ]
  },
  {
   "cell_type": "code",
   "execution_count": 38,
   "id": "87ec39a9",
   "metadata": {},
   "outputs": [
    {
     "name": "stdout",
     "output_type": "stream",
     "text": [
      "False\n",
      "True\n",
      "True\n"
     ]
    }
   ],
   "source": [
    "#istitle - returns true if the string follows the rules of a title\n",
    "d=\"HELLO everyone\"\n",
    "f=\"Hello 123\"\n",
    "h=\"Harry Potter And The Goblet Of Fire\"\n",
    "print(d.istitle())\n",
    "print(f.istitle())\n",
    "print(h.istitle())"
   ]
  },
  {
   "cell_type": "code",
   "execution_count": 39,
   "id": "b5979e9b",
   "metadata": {},
   "outputs": [
    {
     "name": "stdout",
     "output_type": "stream",
     "text": [
      "True\n"
     ]
    }
   ],
   "source": [
    "#endswith() - returns true if the string ends with the specified value\n",
    "a=\"Harry Potter\"\n",
    "print(a.endswith(\"t\",6,9))"
   ]
  },
  {
   "cell_type": "code",
   "execution_count": 42,
   "id": "52bd2825",
   "metadata": {},
   "outputs": [
    {
     "name": "stdout",
     "output_type": "stream",
     "text": [
      "True\n"
     ]
    }
   ],
   "source": [
    "#startswith() - returns true if the string starts with the specified value\n",
    "a=\"Harry potter\"\n",
    "print(a.startswith(\"p\",6,9))"
   ]
  },
  {
   "cell_type": "code",
   "execution_count": 43,
   "id": "76b22bde",
   "metadata": {},
   "outputs": [
    {
     "name": "stdout",
     "output_type": "stream",
     "text": [
      "hARRY pOTTER\n"
     ]
    }
   ],
   "source": [
    "#swapcase() - swap casez, lower case become upper case and vice versa\n",
    "a=\"Harry Potter\"\n",
    "print(a.swapcase())"
   ]
  },
  {
   "cell_type": "code",
   "execution_count": 45,
   "id": "1c8820a8",
   "metadata": {},
   "outputs": [
    {
     "name": "stdout",
     "output_type": "stream",
     "text": [
      "Harry Potter\n"
     ]
    }
   ],
   "source": [
    "#strip() - returns a trimmed version of the string\n",
    "a=\"  ***Harry Potter .... \"\n",
    "print(a.strip(\".,*, \"))"
   ]
  },
  {
   "cell_type": "code",
   "execution_count": 46,
   "id": "5dc39bfa",
   "metadata": {},
   "outputs": [
    {
     "name": "stdout",
     "output_type": "stream",
     "text": [
      "['', 'OOFD', 'BRB', 'OMW', 'TB']\n"
     ]
    }
   ],
   "source": [
    "#split() - splits the string at the specified separator, and returns a list\n",
    "a=\"#OOFD#BRB#OMW#TB\"\n",
    "print(a.split(\"#\"))"
   ]
  },
  {
   "cell_type": "code",
   "execution_count": 2,
   "id": "affe612b",
   "metadata": {},
   "outputs": [
    {
     "name": "stdout",
     "output_type": "stream",
     "text": [
      "Harry potter******** is my fav. movie\n"
     ]
    }
   ],
   "source": [
    "#ljust() - Returns a left justified version of the string\n",
    "a= \"Harry potter\"\n",
    "x=a.ljust(20,\"*\")\n",
    "\n",
    "print(x,\"is my fav. movie\")"
   ]
  },
  {
   "cell_type": "code",
   "execution_count": 3,
   "id": "278ead51",
   "metadata": {},
   "outputs": [
    {
     "name": "stdout",
     "output_type": "stream",
     "text": [
      "********Harry potter is my fav. movie\n"
     ]
    }
   ],
   "source": [
    "#rjust() - Returns a right justified version of the string\n",
    "a= \"Harry potter\"\n",
    "x=a.rjust(20,\"*\")\n",
    "\n",
    "print(x,\"is my fav. movie\")"
   ]
  },
  {
   "cell_type": "code",
   "execution_count": 4,
   "id": "39eba7ba",
   "metadata": {},
   "outputs": [
    {
     "name": "stdout",
     "output_type": "stream",
     "text": [
      "my name is john\n",
      "my name is lissa\n"
     ]
    }
   ],
   "source": [
    "#replace() - Returns a string where a specified value is replaced with a specified value\n",
    "a= \"my name is john\"\n",
    "print(a)\n",
    "print(a.replace(\"john\",\"lissa\"))"
   ]
  },
  {
   "cell_type": "code",
   "execution_count": 17,
   "id": "75558d52",
   "metadata": {},
   "outputs": [
    {
     "name": "stdout",
     "output_type": "stream",
     "text": [
      "21\n",
      "13\n"
     ]
    }
   ],
   "source": [
    "#rindex() - Searches the string for a specified value and returns \n",
    "# the last position of where it was found\n",
    "\n",
    "a=\"Harry potter and the Prisoner of Azkaban\"\n",
    "print(a.rindex(\"Prisoner\"))\n",
    "print(a.rindex(\"a\",6,20))"
   ]
  },
  {
   "cell_type": "code",
   "execution_count": 16,
   "id": "32b7a761",
   "metadata": {},
   "outputs": [
    {
     "name": "stdout",
     "output_type": "stream",
     "text": [
      "6\n",
      "-1\n"
     ]
    }
   ],
   "source": [
    "#rfind() - Searches the string for a specified value and returns \n",
    "# the last position of where it was found\n",
    "\n",
    "a=\"Harry potter and the Goblet of Fire\"\n",
    "print(a.rfind(\"potter\"))\n",
    "\n",
    "b=\"bibidy bobidy boo\"\n",
    "print(a.rfind(\"i\",6,14))"
   ]
  },
  {
   "cell_type": "markdown",
   "id": "e5f71dca",
   "metadata": {},
   "source": [
    "# Slicing in Strings"
   ]
  },
  {
   "cell_type": "code",
   "execution_count": 29,
   "id": "a2eb47fe",
   "metadata": {},
   "outputs": [
    {
     "name": "stdout",
     "output_type": "stream",
     "text": [
      "Harry Potter and the Goblet of Fire\n",
      "Harry\n",
      "Potter\n",
      "Harry\n",
      "Fire\n",
      "0123456789\n",
      "02468\n",
      "036\n",
      "9876543210\n",
      "6543210\n"
     ]
    }
   ],
   "source": [
    "a=\"Harry Potter and the Goblet of Fire\"\n",
    "b=\"0123456789\"\n",
    "\n",
    "print(a)\n",
    "print(a[0:5])\n",
    "\n",
    "print(a[6:12])\n",
    "\n",
    "print(a[:5])\n",
    "\n",
    "print(a[-4:])\n",
    "\n",
    "print(b)\n",
    "print(b[::2])\n",
    "\n",
    "print(b[:7:3])\n",
    "\n",
    "print(b[::-1])\n",
    "\n",
    "print(b[6::-1])"
   ]
  },
  {
   "cell_type": "markdown",
   "id": "48a4563f",
   "metadata": {},
   "source": [
    "# Problem Solving"
   ]
  },
  {
   "cell_type": "code",
   "execution_count": 32,
   "id": "97a10dac",
   "metadata": {},
   "outputs": [
    {
     "name": "stdout",
     "output_type": "stream",
     "text": [
      "enter the range here: 13\n",
      "0\n",
      "1\n",
      "1\n",
      "2\n",
      "3\n",
      "5\n",
      "8\n",
      "13\n",
      "21\n",
      "34\n",
      "55\n",
      "89\n",
      "144\n"
     ]
    }
   ],
   "source": [
    "#Fibonacci series\n",
    "a=0\n",
    "b=1\n",
    "n=int(input(\"enter the range here: \"))\n",
    "if n==1:\n",
    "    print(1)\n",
    "else:\n",
    "    print(a)\n",
    "    print(b)\n",
    "    for i in range(2,n):\n",
    "        c=a+b\n",
    "        a=b\n",
    "        b=c\n",
    "        print(c)"
   ]
  },
  {
   "cell_type": "code",
   "execution_count": 36,
   "id": "7e1f6941",
   "metadata": {},
   "outputs": [
    {
     "name": "stdout",
     "output_type": "stream",
     "text": [
      "Enter a number here: 11\n",
      "Number is a prime number\n"
     ]
    }
   ],
   "source": [
    "#If number is Prime or not\n",
    "\n",
    "num=int(input(\"Enter a number here: \"))\n",
    "\n",
    "if num<=1:\n",
    "    print(\"It is not a prime number\")\n",
    "else:\n",
    "    for i in range(2,num):\n",
    "        if num%i==0:\n",
    "            print(\"Number is not a prime number\")\n",
    "            break\n",
    "    else:\n",
    "            print(\"Number is a prime number\")"
   ]
  },
  {
   "cell_type": "code",
   "execution_count": 2,
   "id": "185a93d5",
   "metadata": {},
   "outputs": [
    {
     "name": "stdout",
     "output_type": "stream",
     "text": [
      "Enter a number here:151\n",
      "Palindrome number\n"
     ]
    }
   ],
   "source": [
    "#If number is Palindrome or not\n",
    "num=int(input(\"Enter a number here:\"))\n",
    "temp=num\n",
    "rev=0\n",
    "while num>0:\n",
    "    dig=num%10\n",
    "    rev=rev*10+dig\n",
    "    num=num//10\n",
    "if(rev==temp):\n",
    "    print(\"Palindrome number\")\n",
    "else:\n",
    "    print(\"Not Palindrome number\")"
   ]
  },
  {
   "cell_type": "code",
   "execution_count": 7,
   "id": "1f4a9e14",
   "metadata": {},
   "outputs": [
    {
     "name": "stdout",
     "output_type": "stream",
     "text": [
      "['OOTD', 'YOLO', 'ASAP', 'BRB', 'GTG', 'OTW']\n"
     ]
    }
   ],
   "source": [
    "#Write a code to separate the following string into comma(,) separated values\n",
    "a=\"OOTD.YOLO.ASAP.BRB.GTG.OTW\"\n",
    "b=a.split(\".\")\n",
    "print (b)"
   ]
  },
  {
   "cell_type": "code",
   "execution_count": 9,
   "id": "ff73b308",
   "metadata": {},
   "outputs": [
    {
     "name": "stdout",
     "output_type": "stream",
     "text": [
      "Enter anything herehello\n",
      "['e', 'h', 'l', 'l', 'o']\n"
     ]
    }
   ],
   "source": [
    "#Write a code to sort strings alpabetically in python\n",
    "a=input(\"Enter anything here\")\n",
    "b=sorted(a)\n",
    "print(b)"
   ]
  },
  {
   "cell_type": "code",
   "execution_count": 10,
   "id": "c523d6e0",
   "metadata": {},
   "outputs": [
    {
     "name": "stdout",
     "output_type": "stream",
     "text": [
      "hllo\n"
     ]
    }
   ],
   "source": [
    "#Write a code to remove a given character from a string\n",
    "a=\"hello\"\n",
    "b=a.replace(\"e\",\"\")\n",
    "print(b)"
   ]
  },
  {
   "cell_type": "code",
   "execution_count": 11,
   "id": "7401dfd8",
   "metadata": {},
   "outputs": [
    {
     "name": "stdout",
     "output_type": "stream",
     "text": [
      "FRIENDS\n"
     ]
    }
   ],
   "source": [
    "#Write a code to remove dot(.) from the following string\n",
    "z=\"F.R.I.E.N.D.S\"\n",
    "b=z.replace(\".\",\"\")\n",
    "print(b)"
   ]
  },
  {
   "cell_type": "code",
   "execution_count": 12,
   "id": "3cd541ca",
   "metadata": {},
   "outputs": [
    {
     "name": "stdout",
     "output_type": "stream",
     "text": [
      "the number of times substring sea is occuring is 2\n"
     ]
    }
   ],
   "source": [
    "#Write a program to chek the number of occurence of a substring in a string\n",
    "a=\"she sells seasshells on the sea shore\"\n",
    "b=a.count(\"sea\")\n",
    "print(\"the number of times substring sea is occuring is\",b)"
   ]
  },
  {
   "cell_type": "code",
   "execution_count": 17,
   "id": "cb21e6ac",
   "metadata": {},
   "outputs": [
    {
     "name": "stdout",
     "output_type": "stream",
     "text": [
      "Enter anything here:hello\n",
      "olleh\n"
     ]
    }
   ],
   "source": [
    "#Reverse a string\n",
    "a=input(\"Enter anything here:\")\n",
    "print(a[::-1])"
   ]
  },
  {
   "cell_type": "code",
   "execution_count": 21,
   "id": "972111e3",
   "metadata": {},
   "outputs": [
    {
     "name": "stdout",
     "output_type": "stream",
     "text": [
      "Enter anything here:123\n",
      "It contains only digits\n"
     ]
    }
   ],
   "source": [
    "#Check if a string contains only digits\n",
    "a=input(\"Enter anything here:\")\n",
    "b=(a.isdigit())\n",
    "if b==True:\n",
    "    print(\"It contains only digits\")\n",
    "else:\n",
    "    print(\"It does not contain any digit\")"
   ]
  },
  {
   "cell_type": "code",
   "execution_count": null,
   "id": "d58b3708",
   "metadata": {},
   "outputs": [],
   "source": [
    "#Check if a string is palindrome\n",
    "a=input(\"Enter anything here:\")\n",
    "rev=a[::-1]\n",
    "if a==rev:\n",
    "    print(\"It is palindrome\")\n",
    "else:\n",
    "    print(\"It is not palindrome\")"
   ]
  },
  {
   "cell_type": "code",
   "execution_count": null,
   "id": "e3dbba3c",
   "metadata": {},
   "outputs": [],
   "source": [
    "#find number of vowels in a string\n",
    "a=input(\"Enter anything here:\")\n",
    "vowels=0\n",
    "for i in a:\n",
    "    if i=\"a\" or i==\"e\" or i==\"i\" or i==\"0\" or i==\"u\" or i==\"A\" or i==\"E\" or i==\"I\" or i==\"O\" or i==\"U\" :\n",
    "        vowels+=1\n",
    "print(\"Number of vowels is\",vowels)"
   ]
  },
  {
   "cell_type": "code",
   "execution_count": null,
   "id": "988f78d1",
   "metadata": {},
   "outputs": [],
   "source": [
    "#check if every word in a string begins with a capital letter\n",
    "a=input(\"Enter anything here:\")\n",
    "print(a.istitle())"
   ]
  },
  {
   "cell_type": "markdown",
   "id": "f6329f96",
   "metadata": {},
   "source": [
    "# List"
   ]
  },
  {
   "cell_type": "markdown",
   "id": "a856b9bb",
   "metadata": {},
   "source": [
    "Lists are the collection of ordered and mutable data.\n",
    "* Lists are written inside the squared brackets.\n",
    "* The value inside a list is separated by coma (,).\n",
    "* Mutable means once created , they can be changed\n",
    "* Multiple datatypes can be written inside a list"
   ]
  },
  {
   "cell_type": "code",
   "execution_count": null,
   "id": "11e3ab7c",
   "metadata": {},
   "outputs": [],
   "source": [
    "fruits=[\"apple\",\"mango\",\"banana\",12,141,45.10]\n",
    "print(fruits)\n",
    "print(type(fruits))"
   ]
  },
  {
   "cell_type": "markdown",
   "id": "9beee437",
   "metadata": {},
   "source": [
    "LIST SLICING"
   ]
  },
  {
   "cell_type": "code",
   "execution_count": null,
   "id": "ecb59c8f",
   "metadata": {},
   "outputs": [],
   "source": [
    "a=[\"Ironman\",\"Thor\",\"Captain America\",\"HULK\"]\n",
    "print(a[2])\n",
    "print(a[1:3])\n",
    "print(a[:2])\n",
    "print(a[1:])\n",
    "print(a[::2])\n",
    "print(a[-3:-1])\n",
    "print(a[::-1])\n",
    "print(a[-1:-4:-1])"
   ]
  },
  {
   "cell_type": "markdown",
   "id": "0665380b",
   "metadata": {},
   "source": [
    "LIST ITERATION"
   ]
  },
  {
   "cell_type": "code",
   "execution_count": 1,
   "id": "de13418f",
   "metadata": {},
   "outputs": [
    {
     "name": "stdout",
     "output_type": "stream",
     "text": [
      "Hulk\n",
      "Thor\n",
      "Ironman\n",
      "Captain America\n"
     ]
    }
   ],
   "source": [
    "#Iteration Using For Loop\n",
    "a=[\"Hulk\",\"Thor\",\"Ironman\",\"Captain America\"]\n",
    "for i in a:\n",
    "    print(i)"
   ]
  },
  {
   "cell_type": "code",
   "execution_count": 2,
   "id": "3e97d6e4",
   "metadata": {},
   "outputs": [
    {
     "name": "stdout",
     "output_type": "stream",
     "text": [
      "Hulk\n",
      "Thor\n",
      "Ironman\n",
      "Captain America\n"
     ]
    }
   ],
   "source": [
    "#Iteration Using For Loop with Range and Length Function\n",
    "a=[\"Hulk\",\"Thor\",\"Ironman\",\"Captain America\"]\n",
    "for i in range(len(a)):\n",
    "    print(a[i])"
   ]
  },
  {
   "cell_type": "code",
   "execution_count": 3,
   "id": "a0915d5a",
   "metadata": {},
   "outputs": [
    {
     "name": "stdout",
     "output_type": "stream",
     "text": [
      "Hulk\n",
      "Thor\n",
      "Ironman\n",
      "Captain America\n"
     ]
    }
   ],
   "source": [
    "#Iteration Using While Loop\n",
    "a=[\"Hulk\",\"Thor\",\"Ironman\",\"Captain America\"]\n",
    "i=0\n",
    "while i<(len(a)):\n",
    "    print(a[i])\n",
    "    i=i+1"
   ]
  },
  {
   "cell_type": "code",
   "execution_count": 4,
   "id": "15f066a1",
   "metadata": {},
   "outputs": [
    {
     "name": "stdout",
     "output_type": "stream",
     "text": [
      "Hulk\n",
      "Thor\n",
      "Ironman\n",
      "Captain America\n"
     ]
    },
    {
     "data": {
      "text/plain": [
       "[None, None, None, None]"
      ]
     },
     "execution_count": 4,
     "metadata": {},
     "output_type": "execute_result"
    }
   ],
   "source": [
    "#Using Short-Hand For Loop\n",
    "[print (i) for i in a]"
   ]
  },
  {
   "cell_type": "markdown",
   "id": "ff7b0169",
   "metadata": {},
   "source": [
    "LIST FUNCTIONS"
   ]
  },
  {
   "cell_type": "code",
   "execution_count": 5,
   "id": "796644ad",
   "metadata": {},
   "outputs": [
    {
     "name": "stdout",
     "output_type": "stream",
     "text": [
      "4\n"
     ]
    }
   ],
   "source": [
    "#to find the length of list\n",
    "a=[\"Thor\",\"Hulk\",\"Ironman\",\"Captain America\"]\n",
    "print(len(a))"
   ]
  },
  {
   "cell_type": "code",
   "execution_count": 6,
   "id": "b925aa43",
   "metadata": {},
   "outputs": [
    {
     "name": "stdout",
     "output_type": "stream",
     "text": [
      "2\n"
     ]
    }
   ],
   "source": [
    "#to count the length of the list\n",
    "a=[\"Thor\",\"Hulk\",\"Ironman\",\"Captain America\",\"Hulk\"]\n",
    "print(a.count(\"Hulk\"))"
   ]
  },
  {
   "cell_type": "code",
   "execution_count": 8,
   "id": "0d593944",
   "metadata": {},
   "outputs": [
    {
     "name": "stdout",
     "output_type": "stream",
     "text": [
      "['Thor', 'Hulk', 'Ironman', 'Captain America', 'Spiderman']\n"
     ]
    }
   ],
   "source": [
    "#to add to the list\n",
    "a=[\"Thor\",\"Hulk\",\"Ironman\",\"Captain America\"]\n",
    "a.append(\"Spiderman\")\n",
    "print(a)"
   ]
  },
  {
   "cell_type": "code",
   "execution_count": 12,
   "id": "3924e72b",
   "metadata": {},
   "outputs": [
    {
     "name": "stdout",
     "output_type": "stream",
     "text": [
      "['Thor', 'Vision', 'Hulk', 'Ironman', 'Captain America']\n"
     ]
    }
   ],
   "source": [
    "#to add to a specific location\n",
    "a=[\"Thor\",\"Hulk\",\"Ironman\",\"Captain America\"]\n",
    "a.insert(1,\"Vision\")\n",
    "print(a)"
   ]
  },
  {
   "cell_type": "code",
   "execution_count": 14,
   "id": "060d68f4",
   "metadata": {},
   "outputs": [
    {
     "name": "stdout",
     "output_type": "stream",
     "text": [
      "['Thor', 'Ironman', 'Captain America']\n"
     ]
    }
   ],
   "source": [
    "#to remove from a list\n",
    "a=[\"Thor\",\"Hulk\",\"Ironman\",\"Captain America\"]\n",
    "a.remove(\"Hulk\")\n",
    "print(a)"
   ]
  },
  {
   "cell_type": "code",
   "execution_count": 17,
   "id": "bc818a77",
   "metadata": {},
   "outputs": [
    {
     "name": "stdout",
     "output_type": "stream",
     "text": [
      "Hulk\n",
      "['Thor', 'Ironman', 'Captain America']\n"
     ]
    }
   ],
   "source": [
    "#to remove from a certain location\n",
    "a=[\"Thor\",\"Hulk\",\"Ironman\",\"Captain America\"]\n",
    "print(a.pop(1))\n",
    "print(a)"
   ]
  },
  {
   "cell_type": "code",
   "execution_count": 18,
   "id": "bf916951",
   "metadata": {},
   "outputs": [
    {
     "name": "stdout",
     "output_type": "stream",
     "text": [
      "[]\n",
      "['Thor', 'Hulk', 'Ironman', 'Captain America']\n"
     ]
    }
   ],
   "source": [
    "#to create a copy of a list\n",
    "a=[\"Thor\",\"Hulk\",\"Ironman\",\"Captain America\"]\n",
    "b=[]\n",
    "print(b)\n",
    "b=a.copy()\n",
    "print(b)"
   ]
  },
  {
   "cell_type": "code",
   "execution_count": 19,
   "id": "5f6e62ed",
   "metadata": {},
   "outputs": [
    {
     "name": "stdout",
     "output_type": "stream",
     "text": [
      "2\n"
     ]
    }
   ],
   "source": [
    "#to access an element\n",
    "a=[\"Thor\",\"Hulk\",\"Ironman\",\"Captain America\"]\n",
    "print(a.index(\"Ironman\"))"
   ]
  },
  {
   "cell_type": "code",
   "execution_count": 20,
   "id": "9444b38d",
   "metadata": {},
   "outputs": [
    {
     "name": "stdout",
     "output_type": "stream",
     "text": [
      "['Thor', 'Hulk', 'Ironman', 'Captain America', 'Vision', 'Spiderman']\n"
     ]
    }
   ],
   "source": [
    "#to extend the list\n",
    "c=[\"Vision\",\"Spiderman\"]\n",
    "a.extend(c)\n",
    "print(a)"
   ]
  },
  {
   "cell_type": "code",
   "execution_count": 21,
   "id": "031cedde",
   "metadata": {},
   "outputs": [
    {
     "name": "stdout",
     "output_type": "stream",
     "text": [
      "['Captain America', 'Ironman', 'Hulk', 'Thor']\n"
     ]
    }
   ],
   "source": [
    "#to reverse the list\n",
    "a=[\"Thor\",\"Hulk\",\"Ironman\",\"Captain America\"]\n",
    "a.reverse()\n",
    "print(a)"
   ]
  },
  {
   "cell_type": "code",
   "execution_count": 23,
   "id": "55ff7ed7",
   "metadata": {},
   "outputs": [
    {
     "name": "stdout",
     "output_type": "stream",
     "text": [
      "['Captain America', 'Hulk', 'Ironman', 'Thor']\n",
      "[1, 2, 4, 7, 9, 10]\n"
     ]
    }
   ],
   "source": [
    "#to sort the list (in ascending order)\n",
    "a=[\"Thor\",\"Hulk\",\"Ironman\",\"Captain America\"]\n",
    "d=[1,7,4,9,10,2]\n",
    "a.sort()\n",
    "d.sort()\n",
    "print(a)\n",
    "print(d)"
   ]
  },
  {
   "cell_type": "code",
   "execution_count": 24,
   "id": "c4f80ce4",
   "metadata": {},
   "outputs": [
    {
     "name": "stdout",
     "output_type": "stream",
     "text": [
      "[]\n"
     ]
    }
   ],
   "source": [
    "#to clear all the data from the list\n",
    "a=[\"Thor\",\"Hulk\",\"Ironman\",\"Captain America\"]\n",
    "a.clear()\n",
    "print(a)"
   ]
  },
  {
   "cell_type": "markdown",
   "id": "5025c248",
   "metadata": {},
   "source": [
    "LIST COMPREHENSION"
   ]
  },
  {
   "cell_type": "code",
   "execution_count": 26,
   "id": "ef36442b",
   "metadata": {},
   "outputs": [
    {
     "name": "stdout",
     "output_type": "stream",
     "text": [
      "[30, 40, 50, 60] \n",
      " [30, 40, 50, 60]\n",
      "[50, 60]\n"
     ]
    }
   ],
   "source": [
    "l1=[30,40,50,60]\n",
    "l2=[]\n",
    "for i in l1:\n",
    "    l2.append(i)\n",
    "print(l1,\"\\n\",l2)\n",
    "\n",
    "\n",
    "#list comprehension is generally used when we want to copy the data of one list to another list\n",
    "l3=[i for i in l1 if i>45]\n",
    "print(l3)"
   ]
  },
  {
   "cell_type": "markdown",
   "id": "b123f1ee",
   "metadata": {},
   "source": [
    "# LIST PROBLEM SOLVING"
   ]
  },
  {
   "cell_type": "code",
   "execution_count": 32,
   "id": "ec5c3dcb",
   "metadata": {},
   "outputs": [
    {
     "name": "stdout",
     "output_type": "stream",
     "text": [
      "['Joe', 'Rachel', 'Monica', 'Ross']\n"
     ]
    }
   ],
   "source": [
    "#Write a program to swap first and forth element\n",
    "A=[\"Ross\",\"Rachel\",\"Monica\",\"Joe\"]\n",
    "A[0],A[3]=A[3],A[0]\n",
    "print(A)"
   ]
  },
  {
   "cell_type": "code",
   "execution_count": 33,
   "id": "deaf2b4d",
   "metadata": {},
   "outputs": [
    {
     "name": "stdout",
     "output_type": "stream",
     "text": [
      "['Ross', 'Phoebe', 'Rachel', 'Monica', 'Joe']\n"
     ]
    }
   ],
   "source": [
    "#Write a program to add new value at second element\n",
    "A=[\"Ross\",\"Rachel\",\"Monica\",\"Joe\"]\n",
    "A.insert(1,\"Phoebe\")\n",
    "print(A)"
   ]
  },
  {
   "cell_type": "code",
   "execution_count": 34,
   "id": "68155076",
   "metadata": {},
   "outputs": [
    {
     "name": "stdout",
     "output_type": "stream",
     "text": [
      "['Ross', 'Rachel', 'Joe']\n"
     ]
    }
   ],
   "source": [
    "#Write a program to delete a value from 3rd position\n",
    "A=[\"Ross\",\"Rachel\",\"Monica\",\"Joe\"]\n",
    "A.pop(2)\n",
    "print(A)"
   ]
  },
  {
   "cell_type": "code",
   "execution_count": 35,
   "id": "1c730b64",
   "metadata": {},
   "outputs": [
    {
     "name": "stdout",
     "output_type": "stream",
     "text": [
      "10920\n"
     ]
    }
   ],
   "source": [
    "#Write a program to multiply all the numbers in the list\n",
    "B=[13,7,12,10]\n",
    "mul=1\n",
    "for i in (B):\n",
    "    mul*=i\n",
    "print(mul)    "
   ]
  },
  {
   "cell_type": "code",
   "execution_count": 37,
   "id": "920d3e48",
   "metadata": {},
   "outputs": [
    {
     "name": "stdout",
     "output_type": "stream",
     "text": [
      "13\n"
     ]
    }
   ],
   "source": [
    "#Write a program to get the largest number from the list\n",
    "B=[13,7,12,10]\n",
    "B.sort() #arrange the list in ascending order\n",
    "print(B[-1])"
   ]
  },
  {
   "cell_type": "code",
   "execution_count": 38,
   "id": "2ffca445",
   "metadata": {},
   "outputs": [
    {
     "name": "stdout",
     "output_type": "stream",
     "text": [
      "7\n"
     ]
    }
   ],
   "source": [
    "#Write a program to get the smallest number from the list\n",
    "B=[13,7,12,10]\n",
    "B.sort()\n",
    "print(B[0])"
   ]
  },
  {
   "cell_type": "markdown",
   "id": "9607cd24",
   "metadata": {},
   "source": [
    "# TUPLE"
   ]
  },
  {
   "cell_type": "markdown",
   "id": "d053d120",
   "metadata": {},
   "source": [
    "Tuples are the collection of ordered and un-mutable data.\n",
    "* For tuples no brackets are mandatory. By choice one can use parentheses.\n",
    "* The value inside a tuple is separated by coma (,).\n",
    "* Once created, tuples cannot be changed.\n",
    "* Multiple datatypes can be written inside a tuples."
   ]
  },
  {
   "cell_type": "code",
   "execution_count": 1,
   "id": "6b5c03ac",
   "metadata": {},
   "outputs": [
    {
     "name": "stdout",
     "output_type": "stream",
     "text": [
      "<class 'tuple'>\n"
     ]
    }
   ],
   "source": [
    "a=\"apple\" , \"mango\" , \"banana\", 1,67,1.23\n",
    "print(type(a))"
   ]
  },
  {
   "cell_type": "code",
   "execution_count": 2,
   "id": "6f93e806",
   "metadata": {},
   "outputs": [
    {
     "name": "stdout",
     "output_type": "stream",
     "text": [
      "('apple', 'mango', 'banana', 1, 67, 1.23)\n"
     ]
    }
   ],
   "source": [
    "print(a)"
   ]
  },
  {
   "cell_type": "code",
   "execution_count": 4,
   "id": "e0b2694b",
   "metadata": {},
   "outputs": [
    {
     "name": "stdout",
     "output_type": "stream",
     "text": [
      "<class 'str'>\n",
      "<class 'tuple'>\n"
     ]
    }
   ],
   "source": [
    "b=\"Ironman\"\n",
    "print(type(b))\n",
    "\n",
    "b=\"Ironman\" ,\n",
    "print(type(b))"
   ]
  },
  {
   "cell_type": "markdown",
   "id": "d987098f",
   "metadata": {},
   "source": [
    "SLICING and ITERATION in Tuples"
   ]
  },
  {
   "cell_type": "code",
   "execution_count": 5,
   "id": "85961f2f",
   "metadata": {},
   "outputs": [
    {
     "name": "stdout",
     "output_type": "stream",
     "text": [
      "('Vivo', 'Redmi')\n"
     ]
    }
   ],
   "source": [
    "a=(\"OnePlus\",\"Vivo\",\"Redmi\",\"Samsung\",\"Nokia\")\n",
    "print(a[1:3])"
   ]
  },
  {
   "cell_type": "code",
   "execution_count": 6,
   "id": "b49267df",
   "metadata": {},
   "outputs": [
    {
     "name": "stdout",
     "output_type": "stream",
     "text": [
      "('OnePlus', 'Vivo', 'Redmi')\n"
     ]
    }
   ],
   "source": [
    "print(a[:3])"
   ]
  },
  {
   "cell_type": "code",
   "execution_count": 7,
   "id": "d9cbf6bb",
   "metadata": {},
   "outputs": [
    {
     "name": "stdout",
     "output_type": "stream",
     "text": [
      "('Redmi', 'Samsung', 'Nokia')\n"
     ]
    }
   ],
   "source": [
    "print(a[2:])"
   ]
  },
  {
   "cell_type": "code",
   "execution_count": 8,
   "id": "87dbba0e",
   "metadata": {},
   "outputs": [
    {
     "name": "stdout",
     "output_type": "stream",
     "text": [
      "('OnePlus', 'Redmi', 'Nokia')\n"
     ]
    }
   ],
   "source": [
    "print(a[::2])"
   ]
  },
  {
   "cell_type": "code",
   "execution_count": 11,
   "id": "f6366329",
   "metadata": {},
   "outputs": [
    {
     "name": "stdout",
     "output_type": "stream",
     "text": [
      "('Vivo', 'Samsung')\n"
     ]
    }
   ],
   "source": [
    "print(a[1::2])"
   ]
  },
  {
   "cell_type": "code",
   "execution_count": 12,
   "id": "073f3df5",
   "metadata": {},
   "outputs": [
    {
     "name": "stdout",
     "output_type": "stream",
     "text": [
      "('Nokia', 'Samsung', 'Redmi', 'Vivo', 'OnePlus')\n"
     ]
    }
   ],
   "source": [
    "print(a[::-1])"
   ]
  },
  {
   "cell_type": "code",
   "execution_count": 13,
   "id": "1eb84b6c",
   "metadata": {},
   "outputs": [
    {
     "name": "stdout",
     "output_type": "stream",
     "text": [
      "('Redmi', 'Vivo', 'OnePlus')\n"
     ]
    }
   ],
   "source": [
    "print(a[2::-1])"
   ]
  },
  {
   "cell_type": "code",
   "execution_count": 19,
   "id": "2a2b0053",
   "metadata": {},
   "outputs": [
    {
     "name": "stdout",
     "output_type": "stream",
     "text": [
      "OnePlus\n",
      "Vivo\n",
      "Redmi\n",
      "Samsung\n",
      "Nokia\n"
     ]
    }
   ],
   "source": [
    "#With for loop\n",
    "for i in a:\n",
    "    print(i)"
   ]
  },
  {
   "cell_type": "code",
   "execution_count": 17,
   "id": "5d26831c",
   "metadata": {},
   "outputs": [
    {
     "name": "stdout",
     "output_type": "stream",
     "text": [
      "OnePlus\n",
      "Vivo\n",
      "Redmi\n",
      "Samsung\n",
      "Nokia\n"
     ]
    }
   ],
   "source": [
    "#along with range and length in for loop\n",
    "for i in range(len(a)):\n",
    "    print(a[i])"
   ]
  },
  {
   "cell_type": "code",
   "execution_count": 18,
   "id": "9631783a",
   "metadata": {},
   "outputs": [
    {
     "name": "stdout",
     "output_type": "stream",
     "text": [
      "OnePlus\n",
      "Vivo\n",
      "Redmi\n",
      "Samsung\n",
      "Nokia\n"
     ]
    }
   ],
   "source": [
    "#along with while loop\n",
    "i=0\n",
    "while i<len(a):\n",
    "    print(a[i])\n",
    "    i+=1"
   ]
  },
  {
   "cell_type": "markdown",
   "id": "33d7f83c",
   "metadata": {},
   "source": [
    "Conversion of Tuples and Tuple Functions"
   ]
  },
  {
   "cell_type": "code",
   "execution_count": 21,
   "id": "c4bdfc4c",
   "metadata": {},
   "outputs": [
    {
     "name": "stdout",
     "output_type": "stream",
     "text": [
      "Before conversion <class 'tuple'>\n",
      "After conversion <class 'list'>\n"
     ]
    }
   ],
   "source": [
    "a = (\"OnePlus\",\"Nokia\",\"Redmi\")\n",
    "print(\"Before conversion\",type(a))\n",
    "\n",
    "a=list(a)\n",
    "print(\"After conversion\",type(a))"
   ]
  },
  {
   "cell_type": "code",
   "execution_count": 22,
   "id": "817b47d7",
   "metadata": {},
   "outputs": [
    {
     "name": "stdout",
     "output_type": "stream",
     "text": [
      "['OnePlus', 'Nokia', 'Redmi', 'Vivo']\n"
     ]
    }
   ],
   "source": [
    "a.append(\"Vivo\")\n",
    "print(a)"
   ]
  },
  {
   "cell_type": "code",
   "execution_count": 23,
   "id": "c5fd817f",
   "metadata": {},
   "outputs": [
    {
     "name": "stdout",
     "output_type": "stream",
     "text": [
      "<class 'tuple'>\n",
      "('OnePlus', 'Nokia', 'Redmi', 'Vivo')\n"
     ]
    }
   ],
   "source": [
    "a=tuple(a)\n",
    "print(type(a))\n",
    "print(a)"
   ]
  },
  {
   "cell_type": "code",
   "execution_count": 24,
   "id": "821d3743",
   "metadata": {},
   "outputs": [
    {
     "name": "stdout",
     "output_type": "stream",
     "text": [
      "1\n"
     ]
    }
   ],
   "source": [
    "print(a.count(\"Redmi\"))"
   ]
  },
  {
   "cell_type": "code",
   "execution_count": 28,
   "id": "b359dc66",
   "metadata": {},
   "outputs": [
    {
     "name": "stdout",
     "output_type": "stream",
     "text": [
      "The index of Redmi is 2\n"
     ]
    }
   ],
   "source": [
    "print(\"The index of Redmi is\",a.index(\"Redmi\"))"
   ]
  },
  {
   "cell_type": "markdown",
   "id": "dee95155",
   "metadata": {},
   "source": [
    "PROBLEM SOLVING"
   ]
  },
  {
   "cell_type": "code",
   "execution_count": 2,
   "id": "d1b22ba1",
   "metadata": {},
   "outputs": [
    {
     "name": "stdout",
     "output_type": "stream",
     "text": [
      "<class 'dict'>\n",
      "{\"name\": \"David\", \"age\": 13, \"marks\": 87}\n",
      "<class 'str'>\n"
     ]
    }
   ],
   "source": [
    "#convert the following dictionary into JSON format\n",
    "import json\n",
    "Student_data={\"name\":\"David\",\"age\":13,\"marks\":87}\n",
    "print(type(Student_data))\n",
    "\n",
    "data=json.dumps(Student_data)\n",
    "print(data)\n",
    "print(type(data))"
   ]
  },
  {
   "cell_type": "code",
   "execution_count": 7,
   "id": "8ce32d83",
   "metadata": {},
   "outputs": [
    {
     "name": "stdout",
     "output_type": "stream",
     "text": [
      "{\n",
      "    \"name\"=\"David\",\n",
      "    \"age\"=13,\n",
      "    \"marks\"=87\n",
      "}\n"
     ]
    }
   ],
   "source": [
    "#Pretty print following JSON data\n",
    "Student_data={\"name\":\"David\",\"age\":13,\"marks\":87}\n",
    "data=json.dumps(Student_data,indent=4,separators=(\",\",\"=\"))\n",
    "print(data)"
   ]
  },
  {
   "cell_type": "markdown",
   "id": "bfbdd1e5",
   "metadata": {},
   "source": [
    "# DICTIONARY"
   ]
  },
  {
   "cell_type": "markdown",
   "id": "88f7fb02",
   "metadata": {},
   "source": [
    "Dictionary allows user to write the data in the form of keys and values.\n",
    "* Dictionaries are enclosed inside curly brackets {}.\n",
    "* Keys and Values are separated by colon\n",
    "* Every key value pair is separated by a comma ( , )"
   ]
  },
  {
   "cell_type": "code",
   "execution_count": 8,
   "id": "3d1cfeed",
   "metadata": {},
   "outputs": [
    {
     "name": "stdout",
     "output_type": "stream",
     "text": [
      "Male\n"
     ]
    }
   ],
   "source": [
    "Employee_data={\"name\":\"Ram\",\"Age\":22,\"Gender\":\"Male\"}\n",
    "print(Employee_data[\"Gender\"])"
   ]
  },
  {
   "cell_type": "markdown",
   "id": "eca7695e",
   "metadata": {},
   "source": [
    "ITERATION in Dictionaries"
   ]
  },
  {
   "cell_type": "code",
   "execution_count": null,
   "id": "c2e4755f",
   "metadata": {},
   "outputs": [],
   "source": []
  }
 ],
 "metadata": {
  "kernelspec": {
   "display_name": "Python 3 (ipykernel)",
   "language": "python",
   "name": "python3"
  },
  "language_info": {
   "codemirror_mode": {
    "name": "ipython",
    "version": 3
   },
   "file_extension": ".py",
   "mimetype": "text/x-python",
   "name": "python",
   "nbconvert_exporter": "python",
   "pygments_lexer": "ipython3",
   "version": "3.11.5"
  }
 },
 "nbformat": 4,
 "nbformat_minor": 5
}
